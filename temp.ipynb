{
 "cells": [
  {
   "cell_type": "code",
   "execution_count": 1,
   "metadata": {},
   "outputs": [],
   "source": [
    "from wrap import wrapper"
   ]
  },
  {
   "cell_type": "code",
   "execution_count": 2,
   "metadata": {},
   "outputs": [
    {
     "name": "stdout",
     "output_type": "stream",
     "text": [
      "2021 1 Completed\n",
      "2021 2 Completed\n",
      "2021 3 Completed\n",
      "2021 4 Completed\n"
     ]
    },
    {
     "ename": "FileNotFoundError",
     "evalue": "[Errno 2] No such file or directory: 'mapped_cik.json'",
     "output_type": "error",
     "traceback": [
      "\u001b[0;31m---------------------------------------------------------------------------\u001b[0m",
      "\u001b[0;31mFileNotFoundError\u001b[0m                         Traceback (most recent call last)",
      "Input \u001b[0;32mIn [2]\u001b[0m, in \u001b[0;36m<cell line: 2>\u001b[0;34m()\u001b[0m\n\u001b[1;32m      1\u001b[0m W \u001b[39m=\u001b[39m wrapper()\n\u001b[0;32m----> 2\u001b[0m W\u001b[39m.\u001b[39;49minitiate()\n",
      "File \u001b[0;32m/mnt/Volume1/CFIWebOps/inter-iit/backend/wrap.py:15\u001b[0m, in \u001b[0;36mwrapper.initiate\u001b[0;34m(self)\u001b[0m\n\u001b[1;32m     <a href='file:///mnt/Volume1/CFIWebOps/inter-iit/backend/wrap.py?line=12'>13</a>\u001b[0m \u001b[39mdef\u001b[39;00m \u001b[39minitiate\u001b[39m(\u001b[39mself\u001b[39m):\n\u001b[1;32m     <a href='file:///mnt/Volume1/CFIWebOps/inter-iit/backend/wrap.py?line=13'>14</a>\u001b[0m     \u001b[39mself\u001b[39m\u001b[39m.\u001b[39mL\u001b[39m.\u001b[39mfetch_old_index()\n\u001b[0;32m---> <a href='file:///mnt/Volume1/CFIWebOps/inter-iit/backend/wrap.py?line=14'>15</a>\u001b[0m     \u001b[39mself\u001b[39;49m\u001b[39m.\u001b[39;49mupdate()\n",
      "File \u001b[0;32m/mnt/Volume1/CFIWebOps/inter-iit/backend/wrap.py:21\u001b[0m, in \u001b[0;36mwrapper.update\u001b[0;34m(self)\u001b[0m\n\u001b[1;32m     <a href='file:///mnt/Volume1/CFIWebOps/inter-iit/backend/wrap.py?line=18'>19</a>\u001b[0m \u001b[39m\"\"\"Function to update index database. Call this daily\"\"\"\u001b[39;00m\n\u001b[1;32m     <a href='file:///mnt/Volume1/CFIWebOps/inter-iit/backend/wrap.py?line=19'>20</a>\u001b[0m \u001b[39mself\u001b[39m\u001b[39m.\u001b[39mL\u001b[39m.\u001b[39mupdate()\n\u001b[0;32m---> <a href='file:///mnt/Volume1/CFIWebOps/inter-iit/backend/wrap.py?line=20'>21</a>\u001b[0m \u001b[39mself\u001b[39;49m\u001b[39m.\u001b[39;49mmake_map()\n",
      "File \u001b[0;32m/mnt/Volume1/CFIWebOps/inter-iit/backend/wrap.py:48\u001b[0m, in \u001b[0;36mwrapper.make_map\u001b[0;34m(self)\u001b[0m\n\u001b[1;32m     <a href='file:///mnt/Volume1/CFIWebOps/inter-iit/backend/wrap.py?line=45'>46</a>\u001b[0m \u001b[39m\"\"\"Makes map to cik-company database\"\"\"\u001b[39;00m\n\u001b[1;32m     <a href='file:///mnt/Volume1/CFIWebOps/inter-iit/backend/wrap.py?line=46'>47</a>\u001b[0m mapping \u001b[39m=\u001b[39m \u001b[39mself\u001b[39m\u001b[39m.\u001b[39mL\u001b[39m.\u001b[39mfetch_mappings()\n\u001b[0;32m---> <a href='file:///mnt/Volume1/CFIWebOps/inter-iit/backend/wrap.py?line=47'>48</a>\u001b[0m \u001b[39mwith\u001b[39;00m \u001b[39mopen\u001b[39;49m(\u001b[39m'\u001b[39;49m\u001b[39mmapped_cik.json\u001b[39;49m\u001b[39m'\u001b[39;49m) \u001b[39mas\u001b[39;00m f:\n\u001b[1;32m     <a href='file:///mnt/Volume1/CFIWebOps/inter-iit/backend/wrap.py?line=48'>49</a>\u001b[0m     mapped \u001b[39m=\u001b[39m json\u001b[39m.\u001b[39mload(f)\n\u001b[1;32m     <a href='file:///mnt/Volume1/CFIWebOps/inter-iit/backend/wrap.py?line=49'>50</a>\u001b[0m \u001b[39mfor\u001b[39;00m key, value \u001b[39min\u001b[39;00m mapping\u001b[39m.\u001b[39mitems():\n",
      "\u001b[0;31mFileNotFoundError\u001b[0m: [Errno 2] No such file or directory: 'mapped_cik.json'"
     ]
    }
   ],
   "source": [
    "W = wrapper()\n",
    "W.initiate()"
   ]
  },
  {
   "cell_type": "code",
   "execution_count": null,
   "metadata": {},
   "outputs": [],
   "source": []
  }
 ],
 "metadata": {
  "interpreter": {
   "hash": "916dbcbb3f70747c44a77c7bcd40155683ae19c65e1c03b4aa3499c5328201f1"
  },
  "kernelspec": {
   "display_name": "Python 3.9.7 64-bit",
   "language": "python",
   "name": "python3"
  },
  "language_info": {
   "codemirror_mode": {
    "name": "ipython",
    "version": 3
   },
   "file_extension": ".py",
   "mimetype": "text/x-python",
   "name": "python",
   "nbconvert_exporter": "python",
   "pygments_lexer": "ipython3",
   "version": "3.9.7"
  },
  "orig_nbformat": 4
 },
 "nbformat": 4,
 "nbformat_minor": 2
}
